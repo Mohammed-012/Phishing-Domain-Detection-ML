{
 "cells": [
  {
   "cell_type": "markdown",
   "id": "a6795d1c",
   "metadata": {},
   "source": [
    "# Importing\n",
    "- libraries"
   ]
  },
  {
   "cell_type": "code",
   "execution_count": 1,
   "id": "20a57f61",
   "metadata": {},
   "outputs": [],
   "source": [
    "import pandas as pd\n",
    "import numpy as np\n",
    "import seaborn as sns\n",
    "import matplotlib.pyplot as plt\n",
    "%matplotlib inline\n",
    "import matplotlib.axes as ax\n",
    "from scipy.stats import zscore"
   ]
  },
  {
   "cell_type": "code",
   "execution_count": 2,
   "id": "13a1e9e4",
   "metadata": {},
   "outputs": [
    {
     "data": {
      "text/html": [
       "<div>\n",
       "<style scoped>\n",
       "    .dataframe tbody tr th:only-of-type {\n",
       "        vertical-align: middle;\n",
       "    }\n",
       "\n",
       "    .dataframe tbody tr th {\n",
       "        vertical-align: top;\n",
       "    }\n",
       "\n",
       "    .dataframe thead th {\n",
       "        text-align: right;\n",
       "    }\n",
       "</style>\n",
       "<table border=\"1\" class=\"dataframe\">\n",
       "  <thead>\n",
       "    <tr style=\"text-align: right;\">\n",
       "      <th></th>\n",
       "      <th>qty_dot_url</th>\n",
       "      <th>qty_hyphen_url</th>\n",
       "      <th>qty_underline_url</th>\n",
       "      <th>qty_slash_url</th>\n",
       "      <th>qty_questionmark_url</th>\n",
       "      <th>qty_equal_url</th>\n",
       "      <th>qty_at_url</th>\n",
       "      <th>qty_and_url</th>\n",
       "      <th>qty_exclamation_url</th>\n",
       "      <th>qty_space_url</th>\n",
       "      <th>...</th>\n",
       "      <th>qty_ip_resolved</th>\n",
       "      <th>qty_nameservers</th>\n",
       "      <th>qty_mx_servers</th>\n",
       "      <th>ttl_hostname</th>\n",
       "      <th>tls_ssl_certificate</th>\n",
       "      <th>qty_redirects</th>\n",
       "      <th>url_google_index</th>\n",
       "      <th>domain_google_index</th>\n",
       "      <th>url_shortened</th>\n",
       "      <th>phishing</th>\n",
       "    </tr>\n",
       "  </thead>\n",
       "  <tbody>\n",
       "    <tr>\n",
       "      <th>0</th>\n",
       "      <td>3</td>\n",
       "      <td>0</td>\n",
       "      <td>0</td>\n",
       "      <td>1</td>\n",
       "      <td>0</td>\n",
       "      <td>0</td>\n",
       "      <td>0</td>\n",
       "      <td>0</td>\n",
       "      <td>0</td>\n",
       "      <td>0</td>\n",
       "      <td>...</td>\n",
       "      <td>1</td>\n",
       "      <td>2</td>\n",
       "      <td>0</td>\n",
       "      <td>892</td>\n",
       "      <td>0</td>\n",
       "      <td>0</td>\n",
       "      <td>0</td>\n",
       "      <td>0</td>\n",
       "      <td>0</td>\n",
       "      <td>1</td>\n",
       "    </tr>\n",
       "    <tr>\n",
       "      <th>1</th>\n",
       "      <td>5</td>\n",
       "      <td>0</td>\n",
       "      <td>1</td>\n",
       "      <td>3</td>\n",
       "      <td>0</td>\n",
       "      <td>3</td>\n",
       "      <td>0</td>\n",
       "      <td>2</td>\n",
       "      <td>0</td>\n",
       "      <td>0</td>\n",
       "      <td>...</td>\n",
       "      <td>1</td>\n",
       "      <td>2</td>\n",
       "      <td>1</td>\n",
       "      <td>9540</td>\n",
       "      <td>1</td>\n",
       "      <td>0</td>\n",
       "      <td>0</td>\n",
       "      <td>0</td>\n",
       "      <td>0</td>\n",
       "      <td>1</td>\n",
       "    </tr>\n",
       "    <tr>\n",
       "      <th>2</th>\n",
       "      <td>2</td>\n",
       "      <td>0</td>\n",
       "      <td>0</td>\n",
       "      <td>1</td>\n",
       "      <td>0</td>\n",
       "      <td>0</td>\n",
       "      <td>0</td>\n",
       "      <td>0</td>\n",
       "      <td>0</td>\n",
       "      <td>0</td>\n",
       "      <td>...</td>\n",
       "      <td>1</td>\n",
       "      <td>2</td>\n",
       "      <td>3</td>\n",
       "      <td>589</td>\n",
       "      <td>1</td>\n",
       "      <td>0</td>\n",
       "      <td>0</td>\n",
       "      <td>0</td>\n",
       "      <td>0</td>\n",
       "      <td>0</td>\n",
       "    </tr>\n",
       "    <tr>\n",
       "      <th>3</th>\n",
       "      <td>4</td>\n",
       "      <td>0</td>\n",
       "      <td>2</td>\n",
       "      <td>5</td>\n",
       "      <td>0</td>\n",
       "      <td>0</td>\n",
       "      <td>0</td>\n",
       "      <td>0</td>\n",
       "      <td>0</td>\n",
       "      <td>0</td>\n",
       "      <td>...</td>\n",
       "      <td>1</td>\n",
       "      <td>2</td>\n",
       "      <td>0</td>\n",
       "      <td>292</td>\n",
       "      <td>1</td>\n",
       "      <td>0</td>\n",
       "      <td>0</td>\n",
       "      <td>0</td>\n",
       "      <td>0</td>\n",
       "      <td>1</td>\n",
       "    </tr>\n",
       "    <tr>\n",
       "      <th>4</th>\n",
       "      <td>2</td>\n",
       "      <td>0</td>\n",
       "      <td>0</td>\n",
       "      <td>0</td>\n",
       "      <td>0</td>\n",
       "      <td>0</td>\n",
       "      <td>0</td>\n",
       "      <td>0</td>\n",
       "      <td>0</td>\n",
       "      <td>0</td>\n",
       "      <td>...</td>\n",
       "      <td>1</td>\n",
       "      <td>2</td>\n",
       "      <td>1</td>\n",
       "      <td>3597</td>\n",
       "      <td>0</td>\n",
       "      <td>1</td>\n",
       "      <td>0</td>\n",
       "      <td>0</td>\n",
       "      <td>0</td>\n",
       "      <td>0</td>\n",
       "    </tr>\n",
       "    <tr>\n",
       "      <th>...</th>\n",
       "      <td>...</td>\n",
       "      <td>...</td>\n",
       "      <td>...</td>\n",
       "      <td>...</td>\n",
       "      <td>...</td>\n",
       "      <td>...</td>\n",
       "      <td>...</td>\n",
       "      <td>...</td>\n",
       "      <td>...</td>\n",
       "      <td>...</td>\n",
       "      <td>...</td>\n",
       "      <td>...</td>\n",
       "      <td>...</td>\n",
       "      <td>...</td>\n",
       "      <td>...</td>\n",
       "      <td>...</td>\n",
       "      <td>...</td>\n",
       "      <td>...</td>\n",
       "      <td>...</td>\n",
       "      <td>...</td>\n",
       "      <td>...</td>\n",
       "    </tr>\n",
       "    <tr>\n",
       "      <th>88642</th>\n",
       "      <td>3</td>\n",
       "      <td>1</td>\n",
       "      <td>0</td>\n",
       "      <td>0</td>\n",
       "      <td>0</td>\n",
       "      <td>0</td>\n",
       "      <td>0</td>\n",
       "      <td>0</td>\n",
       "      <td>0</td>\n",
       "      <td>0</td>\n",
       "      <td>...</td>\n",
       "      <td>1</td>\n",
       "      <td>3</td>\n",
       "      <td>1</td>\n",
       "      <td>3597</td>\n",
       "      <td>0</td>\n",
       "      <td>0</td>\n",
       "      <td>0</td>\n",
       "      <td>0</td>\n",
       "      <td>0</td>\n",
       "      <td>0</td>\n",
       "    </tr>\n",
       "    <tr>\n",
       "      <th>88643</th>\n",
       "      <td>2</td>\n",
       "      <td>0</td>\n",
       "      <td>0</td>\n",
       "      <td>0</td>\n",
       "      <td>0</td>\n",
       "      <td>0</td>\n",
       "      <td>0</td>\n",
       "      <td>0</td>\n",
       "      <td>0</td>\n",
       "      <td>0</td>\n",
       "      <td>...</td>\n",
       "      <td>1</td>\n",
       "      <td>2</td>\n",
       "      <td>2</td>\n",
       "      <td>591</td>\n",
       "      <td>0</td>\n",
       "      <td>2</td>\n",
       "      <td>0</td>\n",
       "      <td>0</td>\n",
       "      <td>0</td>\n",
       "      <td>0</td>\n",
       "    </tr>\n",
       "    <tr>\n",
       "      <th>88644</th>\n",
       "      <td>2</td>\n",
       "      <td>1</td>\n",
       "      <td>0</td>\n",
       "      <td>5</td>\n",
       "      <td>0</td>\n",
       "      <td>0</td>\n",
       "      <td>0</td>\n",
       "      <td>0</td>\n",
       "      <td>0</td>\n",
       "      <td>0</td>\n",
       "      <td>...</td>\n",
       "      <td>1</td>\n",
       "      <td>2</td>\n",
       "      <td>5</td>\n",
       "      <td>14391</td>\n",
       "      <td>1</td>\n",
       "      <td>0</td>\n",
       "      <td>0</td>\n",
       "      <td>0</td>\n",
       "      <td>0</td>\n",
       "      <td>1</td>\n",
       "    </tr>\n",
       "    <tr>\n",
       "      <th>88645</th>\n",
       "      <td>2</td>\n",
       "      <td>0</td>\n",
       "      <td>0</td>\n",
       "      <td>1</td>\n",
       "      <td>0</td>\n",
       "      <td>0</td>\n",
       "      <td>0</td>\n",
       "      <td>0</td>\n",
       "      <td>0</td>\n",
       "      <td>0</td>\n",
       "      <td>...</td>\n",
       "      <td>1</td>\n",
       "      <td>1</td>\n",
       "      <td>1</td>\n",
       "      <td>52</td>\n",
       "      <td>1</td>\n",
       "      <td>0</td>\n",
       "      <td>0</td>\n",
       "      <td>0</td>\n",
       "      <td>0</td>\n",
       "      <td>1</td>\n",
       "    </tr>\n",
       "    <tr>\n",
       "      <th>88646</th>\n",
       "      <td>2</td>\n",
       "      <td>0</td>\n",
       "      <td>0</td>\n",
       "      <td>0</td>\n",
       "      <td>0</td>\n",
       "      <td>0</td>\n",
       "      <td>0</td>\n",
       "      <td>0</td>\n",
       "      <td>0</td>\n",
       "      <td>0</td>\n",
       "      <td>...</td>\n",
       "      <td>1</td>\n",
       "      <td>4</td>\n",
       "      <td>0</td>\n",
       "      <td>299</td>\n",
       "      <td>0</td>\n",
       "      <td>0</td>\n",
       "      <td>0</td>\n",
       "      <td>0</td>\n",
       "      <td>0</td>\n",
       "      <td>0</td>\n",
       "    </tr>\n",
       "  </tbody>\n",
       "</table>\n",
       "<p>88647 rows × 112 columns</p>\n",
       "</div>"
      ],
      "text/plain": [
       "       qty_dot_url  qty_hyphen_url  qty_underline_url  qty_slash_url  \\\n",
       "0                3               0                  0              1   \n",
       "1                5               0                  1              3   \n",
       "2                2               0                  0              1   \n",
       "3                4               0                  2              5   \n",
       "4                2               0                  0              0   \n",
       "...            ...             ...                ...            ...   \n",
       "88642            3               1                  0              0   \n",
       "88643            2               0                  0              0   \n",
       "88644            2               1                  0              5   \n",
       "88645            2               0                  0              1   \n",
       "88646            2               0                  0              0   \n",
       "\n",
       "       qty_questionmark_url  qty_equal_url  qty_at_url  qty_and_url  \\\n",
       "0                         0              0           0            0   \n",
       "1                         0              3           0            2   \n",
       "2                         0              0           0            0   \n",
       "3                         0              0           0            0   \n",
       "4                         0              0           0            0   \n",
       "...                     ...            ...         ...          ...   \n",
       "88642                     0              0           0            0   \n",
       "88643                     0              0           0            0   \n",
       "88644                     0              0           0            0   \n",
       "88645                     0              0           0            0   \n",
       "88646                     0              0           0            0   \n",
       "\n",
       "       qty_exclamation_url  qty_space_url  ...  qty_ip_resolved  \\\n",
       "0                        0              0  ...                1   \n",
       "1                        0              0  ...                1   \n",
       "2                        0              0  ...                1   \n",
       "3                        0              0  ...                1   \n",
       "4                        0              0  ...                1   \n",
       "...                    ...            ...  ...              ...   \n",
       "88642                    0              0  ...                1   \n",
       "88643                    0              0  ...                1   \n",
       "88644                    0              0  ...                1   \n",
       "88645                    0              0  ...                1   \n",
       "88646                    0              0  ...                1   \n",
       "\n",
       "       qty_nameservers  qty_mx_servers  ttl_hostname  tls_ssl_certificate  \\\n",
       "0                    2               0           892                    0   \n",
       "1                    2               1          9540                    1   \n",
       "2                    2               3           589                    1   \n",
       "3                    2               0           292                    1   \n",
       "4                    2               1          3597                    0   \n",
       "...                ...             ...           ...                  ...   \n",
       "88642                3               1          3597                    0   \n",
       "88643                2               2           591                    0   \n",
       "88644                2               5         14391                    1   \n",
       "88645                1               1            52                    1   \n",
       "88646                4               0           299                    0   \n",
       "\n",
       "       qty_redirects  url_google_index  domain_google_index  url_shortened  \\\n",
       "0                  0                 0                    0              0   \n",
       "1                  0                 0                    0              0   \n",
       "2                  0                 0                    0              0   \n",
       "3                  0                 0                    0              0   \n",
       "4                  1                 0                    0              0   \n",
       "...              ...               ...                  ...            ...   \n",
       "88642              0                 0                    0              0   \n",
       "88643              2                 0                    0              0   \n",
       "88644              0                 0                    0              0   \n",
       "88645              0                 0                    0              0   \n",
       "88646              0                 0                    0              0   \n",
       "\n",
       "       phishing  \n",
       "0             1  \n",
       "1             1  \n",
       "2             0  \n",
       "3             1  \n",
       "4             0  \n",
       "...         ...  \n",
       "88642         0  \n",
       "88643         0  \n",
       "88644         1  \n",
       "88645         1  \n",
       "88646         0  \n",
       "\n",
       "[88647 rows x 112 columns]"
      ]
     },
     "execution_count": 2,
     "metadata": {},
     "output_type": "execute_result"
    }
   ],
   "source": [
    "df = pd.read_csv('dataset_full.csv')\n",
    "df"
   ]
  },
  {
   "cell_type": "code",
   "execution_count": 3,
   "id": "39079f27",
   "metadata": {},
   "outputs": [
    {
     "data": {
      "text/html": [
       "<div>\n",
       "<style scoped>\n",
       "    .dataframe tbody tr th:only-of-type {\n",
       "        vertical-align: middle;\n",
       "    }\n",
       "\n",
       "    .dataframe tbody tr th {\n",
       "        vertical-align: top;\n",
       "    }\n",
       "\n",
       "    .dataframe thead th {\n",
       "        text-align: right;\n",
       "    }\n",
       "</style>\n",
       "<table border=\"1\" class=\"dataframe\">\n",
       "  <thead>\n",
       "    <tr style=\"text-align: right;\">\n",
       "      <th></th>\n",
       "      <th>qty_dot_url</th>\n",
       "      <th>qty_hyphen_url</th>\n",
       "      <th>qty_underline_url</th>\n",
       "      <th>qty_slash_url</th>\n",
       "      <th>qty_questionmark_url</th>\n",
       "      <th>qty_equal_url</th>\n",
       "      <th>qty_at_url</th>\n",
       "      <th>qty_and_url</th>\n",
       "      <th>qty_exclamation_url</th>\n",
       "      <th>qty_space_url</th>\n",
       "      <th>...</th>\n",
       "      <th>qty_ip_resolved</th>\n",
       "      <th>qty_nameservers</th>\n",
       "      <th>qty_mx_servers</th>\n",
       "      <th>ttl_hostname</th>\n",
       "      <th>tls_ssl_certificate</th>\n",
       "      <th>qty_redirects</th>\n",
       "      <th>url_google_index</th>\n",
       "      <th>domain_google_index</th>\n",
       "      <th>url_shortened</th>\n",
       "      <th>phishing</th>\n",
       "    </tr>\n",
       "  </thead>\n",
       "  <tbody>\n",
       "    <tr>\n",
       "      <th>count</th>\n",
       "      <td>88647.000000</td>\n",
       "      <td>88647.000000</td>\n",
       "      <td>88647.000000</td>\n",
       "      <td>88647.000000</td>\n",
       "      <td>88647.000000</td>\n",
       "      <td>88647.000000</td>\n",
       "      <td>88647.000000</td>\n",
       "      <td>88647.000000</td>\n",
       "      <td>88647.000000</td>\n",
       "      <td>88647.000000</td>\n",
       "      <td>...</td>\n",
       "      <td>88647.000000</td>\n",
       "      <td>88647.000000</td>\n",
       "      <td>88647.000000</td>\n",
       "      <td>88647.000000</td>\n",
       "      <td>88647.000000</td>\n",
       "      <td>88647.000000</td>\n",
       "      <td>88647.00000</td>\n",
       "      <td>88647.000000</td>\n",
       "      <td>88647.000000</td>\n",
       "      <td>88647.000000</td>\n",
       "    </tr>\n",
       "    <tr>\n",
       "      <th>mean</th>\n",
       "      <td>2.191343</td>\n",
       "      <td>0.328810</td>\n",
       "      <td>0.113879</td>\n",
       "      <td>1.281781</td>\n",
       "      <td>0.009329</td>\n",
       "      <td>0.205861</td>\n",
       "      <td>0.022133</td>\n",
       "      <td>0.140885</td>\n",
       "      <td>0.002944</td>\n",
       "      <td>0.001015</td>\n",
       "      <td>...</td>\n",
       "      <td>1.136564</td>\n",
       "      <td>2.772412</td>\n",
       "      <td>1.742428</td>\n",
       "      <td>6159.877514</td>\n",
       "      <td>0.506447</td>\n",
       "      <td>0.343903</td>\n",
       "      <td>0.00141</td>\n",
       "      <td>0.002019</td>\n",
       "      <td>0.005482</td>\n",
       "      <td>0.345720</td>\n",
       "    </tr>\n",
       "    <tr>\n",
       "      <th>std</th>\n",
       "      <td>1.235636</td>\n",
       "      <td>1.119286</td>\n",
       "      <td>0.657767</td>\n",
       "      <td>1.893929</td>\n",
       "      <td>0.112568</td>\n",
       "      <td>0.954272</td>\n",
       "      <td>0.279652</td>\n",
       "      <td>0.924864</td>\n",
       "      <td>0.087341</td>\n",
       "      <td>0.072653</td>\n",
       "      <td>...</td>\n",
       "      <td>0.895146</td>\n",
       "      <td>1.322999</td>\n",
       "      <td>1.706705</td>\n",
       "      <td>11465.583810</td>\n",
       "      <td>0.499961</td>\n",
       "      <td>0.783892</td>\n",
       "      <td>0.05864</td>\n",
       "      <td>0.063250</td>\n",
       "      <td>0.073841</td>\n",
       "      <td>0.475605</td>\n",
       "    </tr>\n",
       "    <tr>\n",
       "      <th>min</th>\n",
       "      <td>1.000000</td>\n",
       "      <td>0.000000</td>\n",
       "      <td>0.000000</td>\n",
       "      <td>0.000000</td>\n",
       "      <td>0.000000</td>\n",
       "      <td>0.000000</td>\n",
       "      <td>0.000000</td>\n",
       "      <td>0.000000</td>\n",
       "      <td>0.000000</td>\n",
       "      <td>0.000000</td>\n",
       "      <td>...</td>\n",
       "      <td>-1.000000</td>\n",
       "      <td>0.000000</td>\n",
       "      <td>0.000000</td>\n",
       "      <td>-1.000000</td>\n",
       "      <td>0.000000</td>\n",
       "      <td>-1.000000</td>\n",
       "      <td>-1.00000</td>\n",
       "      <td>-1.000000</td>\n",
       "      <td>0.000000</td>\n",
       "      <td>0.000000</td>\n",
       "    </tr>\n",
       "    <tr>\n",
       "      <th>25%</th>\n",
       "      <td>2.000000</td>\n",
       "      <td>0.000000</td>\n",
       "      <td>0.000000</td>\n",
       "      <td>0.000000</td>\n",
       "      <td>0.000000</td>\n",
       "      <td>0.000000</td>\n",
       "      <td>0.000000</td>\n",
       "      <td>0.000000</td>\n",
       "      <td>0.000000</td>\n",
       "      <td>0.000000</td>\n",
       "      <td>...</td>\n",
       "      <td>1.000000</td>\n",
       "      <td>2.000000</td>\n",
       "      <td>1.000000</td>\n",
       "      <td>292.000000</td>\n",
       "      <td>0.000000</td>\n",
       "      <td>0.000000</td>\n",
       "      <td>0.00000</td>\n",
       "      <td>0.000000</td>\n",
       "      <td>0.000000</td>\n",
       "      <td>0.000000</td>\n",
       "    </tr>\n",
       "    <tr>\n",
       "      <th>50%</th>\n",
       "      <td>2.000000</td>\n",
       "      <td>0.000000</td>\n",
       "      <td>0.000000</td>\n",
       "      <td>0.000000</td>\n",
       "      <td>0.000000</td>\n",
       "      <td>0.000000</td>\n",
       "      <td>0.000000</td>\n",
       "      <td>0.000000</td>\n",
       "      <td>0.000000</td>\n",
       "      <td>0.000000</td>\n",
       "      <td>...</td>\n",
       "      <td>1.000000</td>\n",
       "      <td>2.000000</td>\n",
       "      <td>1.000000</td>\n",
       "      <td>2029.000000</td>\n",
       "      <td>1.000000</td>\n",
       "      <td>0.000000</td>\n",
       "      <td>0.00000</td>\n",
       "      <td>0.000000</td>\n",
       "      <td>0.000000</td>\n",
       "      <td>0.000000</td>\n",
       "    </tr>\n",
       "    <tr>\n",
       "      <th>75%</th>\n",
       "      <td>2.000000</td>\n",
       "      <td>0.000000</td>\n",
       "      <td>0.000000</td>\n",
       "      <td>2.000000</td>\n",
       "      <td>0.000000</td>\n",
       "      <td>0.000000</td>\n",
       "      <td>0.000000</td>\n",
       "      <td>0.000000</td>\n",
       "      <td>0.000000</td>\n",
       "      <td>0.000000</td>\n",
       "      <td>...</td>\n",
       "      <td>1.000000</td>\n",
       "      <td>4.000000</td>\n",
       "      <td>2.000000</td>\n",
       "      <td>10798.000000</td>\n",
       "      <td>1.000000</td>\n",
       "      <td>1.000000</td>\n",
       "      <td>0.00000</td>\n",
       "      <td>0.000000</td>\n",
       "      <td>0.000000</td>\n",
       "      <td>1.000000</td>\n",
       "    </tr>\n",
       "    <tr>\n",
       "      <th>max</th>\n",
       "      <td>24.000000</td>\n",
       "      <td>35.000000</td>\n",
       "      <td>21.000000</td>\n",
       "      <td>44.000000</td>\n",
       "      <td>9.000000</td>\n",
       "      <td>23.000000</td>\n",
       "      <td>43.000000</td>\n",
       "      <td>26.000000</td>\n",
       "      <td>10.000000</td>\n",
       "      <td>9.000000</td>\n",
       "      <td>...</td>\n",
       "      <td>24.000000</td>\n",
       "      <td>20.000000</td>\n",
       "      <td>20.000000</td>\n",
       "      <td>604800.000000</td>\n",
       "      <td>1.000000</td>\n",
       "      <td>17.000000</td>\n",
       "      <td>1.00000</td>\n",
       "      <td>1.000000</td>\n",
       "      <td>1.000000</td>\n",
       "      <td>1.000000</td>\n",
       "    </tr>\n",
       "  </tbody>\n",
       "</table>\n",
       "<p>8 rows × 112 columns</p>\n",
       "</div>"
      ],
      "text/plain": [
       "        qty_dot_url  qty_hyphen_url  qty_underline_url  qty_slash_url  \\\n",
       "count  88647.000000    88647.000000       88647.000000   88647.000000   \n",
       "mean       2.191343        0.328810           0.113879       1.281781   \n",
       "std        1.235636        1.119286           0.657767       1.893929   \n",
       "min        1.000000        0.000000           0.000000       0.000000   \n",
       "25%        2.000000        0.000000           0.000000       0.000000   \n",
       "50%        2.000000        0.000000           0.000000       0.000000   \n",
       "75%        2.000000        0.000000           0.000000       2.000000   \n",
       "max       24.000000       35.000000          21.000000      44.000000   \n",
       "\n",
       "       qty_questionmark_url  qty_equal_url    qty_at_url   qty_and_url  \\\n",
       "count          88647.000000   88647.000000  88647.000000  88647.000000   \n",
       "mean               0.009329       0.205861      0.022133      0.140885   \n",
       "std                0.112568       0.954272      0.279652      0.924864   \n",
       "min                0.000000       0.000000      0.000000      0.000000   \n",
       "25%                0.000000       0.000000      0.000000      0.000000   \n",
       "50%                0.000000       0.000000      0.000000      0.000000   \n",
       "75%                0.000000       0.000000      0.000000      0.000000   \n",
       "max                9.000000      23.000000     43.000000     26.000000   \n",
       "\n",
       "       qty_exclamation_url  qty_space_url  ...  qty_ip_resolved  \\\n",
       "count         88647.000000   88647.000000  ...     88647.000000   \n",
       "mean              0.002944       0.001015  ...         1.136564   \n",
       "std               0.087341       0.072653  ...         0.895146   \n",
       "min               0.000000       0.000000  ...        -1.000000   \n",
       "25%               0.000000       0.000000  ...         1.000000   \n",
       "50%               0.000000       0.000000  ...         1.000000   \n",
       "75%               0.000000       0.000000  ...         1.000000   \n",
       "max              10.000000       9.000000  ...        24.000000   \n",
       "\n",
       "       qty_nameservers  qty_mx_servers   ttl_hostname  tls_ssl_certificate  \\\n",
       "count     88647.000000    88647.000000   88647.000000         88647.000000   \n",
       "mean          2.772412        1.742428    6159.877514             0.506447   \n",
       "std           1.322999        1.706705   11465.583810             0.499961   \n",
       "min           0.000000        0.000000      -1.000000             0.000000   \n",
       "25%           2.000000        1.000000     292.000000             0.000000   \n",
       "50%           2.000000        1.000000    2029.000000             1.000000   \n",
       "75%           4.000000        2.000000   10798.000000             1.000000   \n",
       "max          20.000000       20.000000  604800.000000             1.000000   \n",
       "\n",
       "       qty_redirects  url_google_index  domain_google_index  url_shortened  \\\n",
       "count   88647.000000       88647.00000         88647.000000   88647.000000   \n",
       "mean        0.343903           0.00141             0.002019       0.005482   \n",
       "std         0.783892           0.05864             0.063250       0.073841   \n",
       "min        -1.000000          -1.00000            -1.000000       0.000000   \n",
       "25%         0.000000           0.00000             0.000000       0.000000   \n",
       "50%         0.000000           0.00000             0.000000       0.000000   \n",
       "75%         1.000000           0.00000             0.000000       0.000000   \n",
       "max        17.000000           1.00000             1.000000       1.000000   \n",
       "\n",
       "           phishing  \n",
       "count  88647.000000  \n",
       "mean       0.345720  \n",
       "std        0.475605  \n",
       "min        0.000000  \n",
       "25%        0.000000  \n",
       "50%        0.000000  \n",
       "75%        1.000000  \n",
       "max        1.000000  \n",
       "\n",
       "[8 rows x 112 columns]"
      ]
     },
     "execution_count": 3,
     "metadata": {},
     "output_type": "execute_result"
    }
   ],
   "source": [
    "df.describe()"
   ]
  },
  {
   "cell_type": "code",
   "execution_count": 4,
   "id": "ec409560",
   "metadata": {},
   "outputs": [
    {
     "data": {
      "text/plain": [
       "qty_dot_url             0\n",
       "qty_hyphen_url          0\n",
       "qty_underline_url       0\n",
       "qty_slash_url           0\n",
       "qty_questionmark_url    0\n",
       "                       ..\n",
       "qty_redirects           0\n",
       "url_google_index        0\n",
       "domain_google_index     0\n",
       "url_shortened           0\n",
       "phishing                0\n",
       "Length: 112, dtype: int64"
      ]
     },
     "execution_count": 4,
     "metadata": {},
     "output_type": "execute_result"
    }
   ],
   "source": [
    "df.isnull().sum()"
   ]
  },
  {
   "cell_type": "code",
   "execution_count": 5,
   "id": "1fd5dbc8",
   "metadata": {},
   "outputs": [
    {
     "name": "stdout",
     "output_type": "stream",
     "text": [
      "[0, 0, 0, 0, 0, 0, 0, 0, 0, 0, 0, 0, 0, 0, 0, 0, 0, 0, 0, 0, 0, 0, 0, 0, 0, 0, 0, 0, 0, 0, 0, 0, 0, 0, 0, 0, 0, 0, 0, 0, 0, 0, 0, 0, 0, 0, 0, 0, 0, 0, 0, 0, 0, 0, 0, 0, 0, 0, 0, 0, 0, 0, 0, 0, 0, 0, 0, 0, 0, 0, 0, 0, 0, 0, 0, 0, 0, 0, 0, 0, 0, 0, 0, 0, 0, 0, 0, 0, 0, 0, 0, 0, 0, 0, 0, 0, 0, 0, 0, 0, 0, 0, 0, 0, 0, 0, 0, 0, 0, 0, 0, 0]\n"
     ]
    }
   ],
   "source": [
    "print(list(df.isnull().sum()))"
   ]
  },
  {
   "cell_type": "code",
   "execution_count": 6,
   "id": "8c515b82",
   "metadata": {},
   "outputs": [
    {
     "data": {
      "text/plain": [
       "(88647, 112)"
      ]
     },
     "execution_count": 6,
     "metadata": {},
     "output_type": "execute_result"
    }
   ],
   "source": [
    "df.shape"
   ]
  },
  {
   "cell_type": "code",
   "execution_count": 7,
   "id": "58ad6dc1",
   "metadata": {},
   "outputs": [
    {
     "name": "stdout",
     "output_type": "stream",
     "text": [
      "                              0\n",
      "qty_dot_url            0.000000\n",
      "qty_hyphen_url        82.423545\n",
      "qty_underline_url     93.988516\n",
      "qty_slash_url         53.593466\n",
      "qty_questionmark_url  99.155076\n",
      "...                         ...\n",
      "qty_redirects         58.580663\n",
      "url_google_index      99.655939\n",
      "domain_google_index   99.599535\n",
      "url_shortened         99.451758\n",
      "phishing              65.428046\n",
      "\n",
      "[112 rows x 1 columns]\n",
      "Index(['qty_hyphen_url', 'qty_underline_url', 'qty_questionmark_url',\n",
      "       'qty_equal_url', 'qty_at_url', 'qty_and_url', 'qty_exclamation_url',\n",
      "       'qty_space_url', 'qty_tilde_url', 'qty_comma_url', 'qty_plus_url',\n",
      "       'qty_asterisk_url', 'qty_hashtag_url', 'qty_dollar_url',\n",
      "       'qty_percent_url', 'qty_hyphen_domain', 'qty_underline_domain',\n",
      "       'qty_slash_domain', 'qty_questionmark_domain', 'qty_equal_domain',\n",
      "       'qty_at_domain', 'qty_and_domain', 'qty_exclamation_domain',\n",
      "       'qty_space_domain', 'qty_tilde_domain', 'qty_comma_domain',\n",
      "       'qty_plus_domain', 'qty_asterisk_domain', 'qty_hashtag_domain',\n",
      "       'qty_dollar_domain', 'qty_percent_domain', 'domain_in_ip',\n",
      "       'server_client_domain', 'email_in_url', 'url_google_index',\n",
      "       'domain_google_index', 'url_shortened'],\n",
      "      dtype='object')\n",
      "37\n"
     ]
    }
   ],
   "source": [
    "# Calculate the percentage of '0' values in each column\n",
    "percentage_zeros = (df == 0).mean() * 100\n",
    "threshold = 70\n",
    "print(pd.DataFrame(percentage_zeros))\n",
    "# Filter columns with more than or equal to 70% '0' values\n",
    "columns_with_70_percent_zeros = percentage_zeros[percentage_zeros >= threshold].index\n",
    "print(columns_with_70_percent_zeros)\n",
    "print(len(columns_with_70_percent_zeros))"
   ]
  },
  {
   "cell_type": "code",
   "execution_count": 8,
   "id": "0f3c030c",
   "metadata": {},
   "outputs": [
    {
     "name": "stdout",
     "output_type": "stream",
     "text": [
      "(88647, 75)\n"
     ]
    }
   ],
   "source": [
    "for i in columns_with_70_percent_zeros:\n",
    "    df.drop(i, axis = 1,inplace = True)\n",
    "    \n",
    "print(df.shape)"
   ]
  },
  {
   "cell_type": "code",
   "execution_count": 9,
   "id": "183194bc",
   "metadata": {},
   "outputs": [
    {
     "name": "stdout",
     "output_type": "stream",
     "text": [
      "[0, 0, 0, 0, 0, 0, 0, 0, 0, 0, 0, 0, 0, 0, 0, 0, 0, 0, 0, 0, 0, 0, 0, 0, 0, 0, 0, 0, 0, 0, 0, 0, 0, 0, 0, 0, 0, 0, 0, 0, 0, 0, 0, 0, 0, 0, 0, 0, 0, 0, 0, 0, 0, 0, 0, 0, 0, 0, 0, 0, 0, 0, 0, 0, 0, 0, 0, 0, 0, 0, 0, 0, 0, 0, 0]\n"
     ]
    }
   ],
   "source": [
    "print(list(df.isnull().sum()))"
   ]
  },
  {
   "cell_type": "markdown",
   "id": "af263275",
   "metadata": {},
   "source": [
    "# Outlier detection and Treatment"
   ]
  },
  {
   "cell_type": "markdown",
   "id": "0e51a7d7",
   "metadata": {},
   "source": [
    "from sklearn.feature_selection import SelectKBest, f_classif\n",
    "\n",
    "X = df.drop(['phishing'], axis = 1)\n",
    "y = df['phishing']\n",
    "k_best = SelectKBest(score_func=f_classif, k=20)\n",
    "k_best.fit(X, y)\n",
    "//# Get the indices of the selected features\n",
    "selected_indices = k_best.get_support(indices=True)\n",
    "//# Get the names of the selected columns\n",
    "selected_columns = X.columns[selected_indices]"
   ]
  },
  {
   "cell_type": "markdown",
   "id": "6b1e8dc2",
   "metadata": {},
   "source": [
    "columns_per_row = 3\n",
    "# Calculating the number of rows needed for the plots\n",
    "num_rows = (len(selected_columns) + columns_per_row - 1) // columns_per_row\n",
    "# Create subplots\n",
    "fig, axes = plt.subplots(num_rows, columns_per_row, figsize=(15, 5 * num_rows))\n",
    "# Flatten the axes array for easier indexing\n",
    "axes = axes.ravel()\n",
    "\n",
    "# Loop over columns and create boxplots\n",
    "for i, column in enumerate(selected_columns):\n",
    "    ax = axes[i]\n",
    "    df.boxplot(column=column, ax=ax)\n",
    "    ax.set_title(column)\n",
    "    ax.set_ylabel('Values')\n",
    "\n",
    "# Remove any empty subplots\n",
    "for i in range(len(selected_columns), num_rows * columns_per_row):\n",
    "    fig.delaxes(axes[i])\n",
    "\n",
    "plt.tight_layout()\n",
    "plt.show()"
   ]
  },
  {
   "cell_type": "code",
   "execution_count": 10,
   "id": "5e51cde2",
   "metadata": {},
   "outputs": [],
   "source": [
    "threshold = 10\n",
    "\n",
    "# Create an empty DataFrame to store the filtered results\n",
    "new_df = pd.DataFrame()\n",
    "\n",
    "# Iterate through each column in the DataFrame\n",
    "for column in df.columns:\n",
    "    # Get the value counts for the current column\n",
    "    value_counts = df[column].value_counts()\n",
    "    \n",
    "    # Filter out values with counts less than the threshold\n",
    "    mask = df[column].isin(value_counts.index[value_counts >= threshold])\n",
    "    \n",
    "    # Append the filtered column to the result DataFrame\n",
    "    new_df[column] = df[column][mask]"
   ]
  },
  {
   "cell_type": "code",
   "execution_count": 11,
   "id": "ff2f4c0c",
   "metadata": {},
   "outputs": [
    {
     "name": "stdout",
     "output_type": "stream",
     "text": [
      "[0, 21, 6, 599, 16, 38, 144, 16, 34, 32, 7, 0, 7, 26, 28, 14, 11, 13, 1, 15, 20, 0, 19, 78, 302, 6, 20, 35, 0, 0, 4, 1, 3, 2, 13, 15, 2, 10, 12, 0, 0, 58, 276, 0, 38, 39, 32, 5, 14, 10, 21, 5, 4, 5, 14, 10, 5, 0, 15, 71, 766, 0, 16, 82772, 0, 7343, 32145, 6918, 21, 11, 9, 16880, 0, 15, 0]\n"
     ]
    }
   ],
   "source": [
    "print(list(new_df.isnull().sum()))"
   ]
  },
  {
   "cell_type": "code",
   "execution_count": 12,
   "id": "e8516659",
   "metadata": {
    "scrolled": false
   },
   "outputs": [
    {
     "data": {
      "text/plain": [
       "Index(['length_url', 'directory_length', 'file_length', 'params_length',\n",
       "       'time_response', 'asn_ip', 'time_domain_activation',\n",
       "       'time_domain_expiration', 'ttl_hostname'],\n",
       "      dtype='object')"
      ]
     },
     "execution_count": 12,
     "metadata": {},
     "output_type": "execute_result"
    }
   ],
   "source": [
    "columns_with_null=new_df.columns[new_df.isnull().sum()>150]\n",
    "columns_with_null"
   ]
  },
  {
   "cell_type": "code",
   "execution_count": 13,
   "id": "85320c4a",
   "metadata": {
    "scrolled": true
   },
   "outputs": [
    {
     "data": {
      "text/html": [
       "<div>\n",
       "<style scoped>\n",
       "    .dataframe tbody tr th:only-of-type {\n",
       "        vertical-align: middle;\n",
       "    }\n",
       "\n",
       "    .dataframe tbody tr th {\n",
       "        vertical-align: top;\n",
       "    }\n",
       "\n",
       "    .dataframe thead th {\n",
       "        text-align: right;\n",
       "    }\n",
       "</style>\n",
       "<table border=\"1\" class=\"dataframe\">\n",
       "  <thead>\n",
       "    <tr style=\"text-align: right;\">\n",
       "      <th></th>\n",
       "      <th>Column Name</th>\n",
       "      <th>Null Count</th>\n",
       "    </tr>\n",
       "  </thead>\n",
       "  <tbody>\n",
       "    <tr>\n",
       "      <th>0</th>\n",
       "      <td>length_url</td>\n",
       "      <td>599</td>\n",
       "    </tr>\n",
       "    <tr>\n",
       "      <th>1</th>\n",
       "      <td>directory_length</td>\n",
       "      <td>302</td>\n",
       "    </tr>\n",
       "    <tr>\n",
       "      <th>2</th>\n",
       "      <td>file_length</td>\n",
       "      <td>276</td>\n",
       "    </tr>\n",
       "    <tr>\n",
       "      <th>3</th>\n",
       "      <td>params_length</td>\n",
       "      <td>766</td>\n",
       "    </tr>\n",
       "    <tr>\n",
       "      <th>4</th>\n",
       "      <td>time_response</td>\n",
       "      <td>82772</td>\n",
       "    </tr>\n",
       "    <tr>\n",
       "      <th>5</th>\n",
       "      <td>asn_ip</td>\n",
       "      <td>7343</td>\n",
       "    </tr>\n",
       "    <tr>\n",
       "      <th>6</th>\n",
       "      <td>time_domain_activation</td>\n",
       "      <td>32145</td>\n",
       "    </tr>\n",
       "    <tr>\n",
       "      <th>7</th>\n",
       "      <td>time_domain_expiration</td>\n",
       "      <td>6918</td>\n",
       "    </tr>\n",
       "    <tr>\n",
       "      <th>8</th>\n",
       "      <td>ttl_hostname</td>\n",
       "      <td>16880</td>\n",
       "    </tr>\n",
       "  </tbody>\n",
       "</table>\n",
       "</div>"
      ],
      "text/plain": [
       "              Column Name Null Count\n",
       "0              length_url        599\n",
       "1        directory_length        302\n",
       "2             file_length        276\n",
       "3           params_length        766\n",
       "4           time_response      82772\n",
       "5                  asn_ip       7343\n",
       "6  time_domain_activation      32145\n",
       "7  time_domain_expiration       6918\n",
       "8            ttl_hostname      16880"
      ]
     },
     "execution_count": 13,
     "metadata": {},
     "output_type": "execute_result"
    }
   ],
   "source": [
    "import warnings\n",
    "warnings.filterwarnings('ignore')\n",
    "result_df = pd.DataFrame(columns=['Column Name', 'Null Count'])\n",
    "\n",
    "# Iterate through the columns with null values\n",
    "for col_name in columns_with_null:\n",
    "    null_count = new_df[col_name].isnull().sum()\n",
    "    result_df = result_df.append({'Column Name': col_name, 'Null Count': null_count}, ignore_index=True)\n",
    "\n",
    "# Print the result DataFrame\n",
    "result_df"
   ]
  },
  {
   "cell_type": "markdown",
   "id": "0dbd5060",
   "metadata": {},
   "source": [
    "From the above null counts\n",
    "time_domain_activation\n",
    "time_domain_expiration\n",
    "has greator negative correaltion to target column."
   ]
  },
  {
   "cell_type": "code",
   "execution_count": 14,
   "id": "8baf68f2",
   "metadata": {},
   "outputs": [
    {
     "name": "stdout",
     "output_type": "stream",
     "text": [
      "(88632, 75)\n",
      "(88632, 66)\n"
     ]
    }
   ],
   "source": [
    "print(new_df.shape)\n",
    "df1 = new_df.copy()\n",
    "df1 = df1.drop(columns=list(columns_with_null))\n",
    "print(df1.shape)"
   ]
  },
  {
   "cell_type": "code",
   "execution_count": 15,
   "id": "9c85caec",
   "metadata": {},
   "outputs": [
    {
     "data": {
      "text/plain": [
       "(88632, 66)"
      ]
     },
     "execution_count": 15,
     "metadata": {},
     "output_type": "execute_result"
    }
   ],
   "source": [
    "df = df1.copy()\n",
    "df.shape"
   ]
  },
  {
   "cell_type": "code",
   "execution_count": 16,
   "id": "376890d1",
   "metadata": {},
   "outputs": [
    {
     "data": {
      "text/plain": [
       "Index(['qty_dot_url', 'qty_slash_url', 'qty_tld_url', 'qty_dot_domain',\n",
       "       'qty_vowels_domain', 'domain_length', 'qty_dot_directory',\n",
       "       'qty_hyphen_directory', 'qty_underline_directory',\n",
       "       'qty_slash_directory', 'qty_questionmark_directory',\n",
       "       'qty_equal_directory', 'qty_at_directory', 'qty_and_directory',\n",
       "       'qty_exclamation_directory', 'qty_space_directory',\n",
       "       'qty_tilde_directory', 'qty_comma_directory', 'qty_plus_directory',\n",
       "       'qty_asterisk_directory', 'qty_hashtag_directory',\n",
       "       'qty_dollar_directory', 'qty_percent_directory', 'qty_dot_file',\n",
       "       'qty_hyphen_file', 'qty_underline_file', 'qty_slash_file',\n",
       "       'qty_questionmark_file', 'qty_equal_file', 'qty_at_file',\n",
       "       'qty_and_file', 'qty_exclamation_file', 'qty_space_file',\n",
       "       'qty_tilde_file', 'qty_comma_file', 'qty_plus_file',\n",
       "       'qty_asterisk_file', 'qty_hashtag_file', 'qty_dollar_file',\n",
       "       'qty_percent_file', 'qty_dot_params', 'qty_hyphen_params',\n",
       "       'qty_underline_params', 'qty_slash_params', 'qty_questionmark_params',\n",
       "       'qty_equal_params', 'qty_at_params', 'qty_and_params',\n",
       "       'qty_exclamation_params', 'qty_space_params', 'qty_tilde_params',\n",
       "       'qty_comma_params', 'qty_plus_params', 'qty_asterisk_params',\n",
       "       'qty_hashtag_params', 'qty_dollar_params', 'qty_percent_params',\n",
       "       'tld_present_params', 'qty_params', 'domain_spf', 'qty_ip_resolved',\n",
       "       'qty_nameservers', 'qty_mx_servers', 'tls_ssl_certificate',\n",
       "       'qty_redirects', 'phishing'],\n",
       "      dtype='object')"
      ]
     },
     "execution_count": 16,
     "metadata": {},
     "output_type": "execute_result"
    }
   ],
   "source": [
    "df.columns"
   ]
  },
  {
   "cell_type": "code",
   "execution_count": 17,
   "id": "b62728de",
   "metadata": {},
   "outputs": [],
   "source": [
    "import pandas as pd\n",
    "from sklearn.impute import SimpleImputer\n",
    "imputer = SimpleImputer(strategy='most_frequent')  # You can change 'mean' to the strategy you prefer\n",
    "imputer.fit(df)\n",
    "df_imputed = pd.DataFrame(imputer.transform(df), columns=df.columns)"
   ]
  },
  {
   "cell_type": "code",
   "execution_count": 18,
   "id": "32bc3493",
   "metadata": {},
   "outputs": [],
   "source": [
    "df = df_imputed.copy()"
   ]
  },
  {
   "cell_type": "code",
   "execution_count": 19,
   "id": "e6b18096",
   "metadata": {},
   "outputs": [],
   "source": [
    "import pandas as pd\n",
    "from sklearn.feature_selection import SelectKBest\n",
    "from sklearn.feature_selection import f_classif  # Choose an appropriate scoring function\n",
    "\n",
    "# Assuming 'df' is your DataFrame with features and target\n",
    "X = df.drop('phishing', axis=1)  # Remove the target column\n",
    "y = df['phishing']  # Your target variable\n",
    "k_best = SelectKBest(score_func=f_classif, k=20)  # Select top 20 features\n",
    "X_new = k_best.fit_transform(X, y)\n",
    "selected_feature_indices = k_best.get_support(indices=True)\n",
    "selected_feature_names = X.columns[selected_feature_indices]"
   ]
  },
  {
   "cell_type": "code",
   "execution_count": 22,
   "id": "2dbefca5",
   "metadata": {},
   "outputs": [
    {
     "data": {
      "text/plain": [
       "Index(['qty_slash_directory', 'qty_questionmark_directory', 'qty_at_directory',\n",
       "       'qty_exclamation_directory', 'qty_space_directory',\n",
       "       'qty_plus_directory', 'qty_asterisk_directory', 'qty_hashtag_directory',\n",
       "       'qty_dollar_directory', 'qty_slash_file', 'qty_questionmark_file',\n",
       "       'qty_at_file', 'qty_and_file', 'qty_exclamation_file', 'qty_space_file',\n",
       "       'qty_tilde_file', 'qty_plus_file', 'qty_asterisk_file',\n",
       "       'qty_hashtag_file', 'qty_dollar_file'],\n",
       "      dtype='object')"
      ]
     },
     "execution_count": 22,
     "metadata": {},
     "output_type": "execute_result"
    }
   ],
   "source": [
    "len(selected_feature_names)\n",
    "selected_feature_names"
   ]
  },
  {
   "cell_type": "code",
   "execution_count": 25,
   "id": "b83dedf4",
   "metadata": {},
   "outputs": [
    {
     "data": {
      "text/plain": [
       "(88632,)"
      ]
     },
     "execution_count": 25,
     "metadata": {},
     "output_type": "execute_result"
    }
   ],
   "source": [
    "y.shape"
   ]
  },
  {
   "cell_type": "markdown",
   "id": "ed0d9218",
   "metadata": {},
   "source": [
    "# SPLITTING DATA"
   ]
  },
  {
   "cell_type": "code",
   "execution_count": 26,
   "id": "eca6278f",
   "metadata": {},
   "outputs": [],
   "source": [
    "from sklearn.model_selection import train_test_split\n",
    "xtrain, xtest, ytrain, ytest = train_test_split(X_new, y, test_size = 0.3,random_state= 42)"
   ]
  },
  {
   "cell_type": "code",
   "execution_count": 27,
   "id": "5d25aa80",
   "metadata": {},
   "outputs": [
    {
     "name": "stdout",
     "output_type": "stream",
     "text": [
      "(62042, 20)\n",
      "(26590, 20)\n"
     ]
    }
   ],
   "source": [
    "print(xtrain.shape)\n",
    "print(xtest.shape)"
   ]
  },
  {
   "cell_type": "code",
   "execution_count": 32,
   "id": "05dc8c21",
   "metadata": {},
   "outputs": [
    {
     "data": {
      "text/plain": [
       "Index(['qty_slash_directory', 'qty_questionmark_directory', 'qty_at_directory',\n",
       "       'qty_exclamation_directory', 'qty_space_directory',\n",
       "       'qty_plus_directory', 'qty_asterisk_directory', 'qty_hashtag_directory',\n",
       "       'qty_dollar_directory', 'qty_slash_file', 'qty_questionmark_file',\n",
       "       'qty_at_file', 'qty_and_file', 'qty_exclamation_file', 'qty_space_file',\n",
       "       'qty_tilde_file', 'qty_plus_file', 'qty_asterisk_file',\n",
       "       'qty_hashtag_file', 'qty_dollar_file'],\n",
       "      dtype='object')"
      ]
     },
     "execution_count": 32,
     "metadata": {},
     "output_type": "execute_result"
    }
   ],
   "source": [
    "selected_feature_names"
   ]
  },
  {
   "cell_type": "code",
   "execution_count": 33,
   "id": "31d371ea",
   "metadata": {},
   "outputs": [
    {
     "data": {
      "text/plain": [
       "62877    1.0\n",
       "76286    0.0\n",
       "67962    0.0\n",
       "64528    1.0\n",
       "66676    0.0\n",
       "        ... \n",
       "12257    0.0\n",
       "75667    0.0\n",
       "58042    0.0\n",
       "15170    0.0\n",
       "44943    0.0\n",
       "Name: phishing, Length: 26590, dtype: float64"
      ]
     },
     "execution_count": 33,
     "metadata": {},
     "output_type": "execute_result"
    }
   ],
   "source": [
    "ytest"
   ]
  },
  {
   "cell_type": "code",
   "execution_count": 34,
   "id": "d6c10b28",
   "metadata": {},
   "outputs": [
    {
     "data": {
      "text/plain": [
       "array([0.48453641, 0.01622858, 0.01622858, ..., 0.01622858, 0.01622858,\n",
       "       0.48453641])"
      ]
     },
     "execution_count": 34,
     "metadata": {},
     "output_type": "execute_result"
    }
   ],
   "source": [
    "from sklearn.ensemble import RandomForestRegressor\n",
    "rf_regressor = RandomForestRegressor(200)\n",
    "rf_regressor.fit(xtrain, ytrain)\n",
    "ypred = rf_regressor.predict(xtest)\n",
    "ypred"
   ]
  },
  {
   "cell_type": "code",
   "execution_count": 35,
   "id": "bf404176",
   "metadata": {},
   "outputs": [
    {
     "data": {
      "text/plain": [
       "0.08336616355334421"
      ]
     },
     "execution_count": 35,
     "metadata": {},
     "output_type": "execute_result"
    }
   ],
   "source": [
    "from sklearn.metrics import mean_squared_error, accuracy_score\n",
    "mean_squared_error(ypred, ytest)"
   ]
  },
  {
   "cell_type": "code",
   "execution_count": 36,
   "id": "84e8c201",
   "metadata": {},
   "outputs": [
    {
     "data": {
      "text/plain": [
       "0.8700263256863483"
      ]
     },
     "execution_count": 36,
     "metadata": {},
     "output_type": "execute_result"
    }
   ],
   "source": [
    "from sklearn.metrics import accuracy_score\n",
    "ypred_binary = (ypred >= 0.5).astype(int)\n",
    "accuracy = accuracy_score(ytest, ypred_binary)\n",
    "accuracy"
   ]
  },
  {
   "cell_type": "code",
   "execution_count": 37,
   "id": "69279cf7",
   "metadata": {},
   "outputs": [
    {
     "data": {
      "text/html": [
       "<div>\n",
       "<style scoped>\n",
       "    .dataframe tbody tr th:only-of-type {\n",
       "        vertical-align: middle;\n",
       "    }\n",
       "\n",
       "    .dataframe tbody tr th {\n",
       "        vertical-align: top;\n",
       "    }\n",
       "\n",
       "    .dataframe thead th {\n",
       "        text-align: right;\n",
       "    }\n",
       "</style>\n",
       "<table border=\"1\" class=\"dataframe\">\n",
       "  <thead>\n",
       "    <tr style=\"text-align: right;\">\n",
       "      <th></th>\n",
       "      <th>0</th>\n",
       "    </tr>\n",
       "    <tr>\n",
       "      <th>phishing</th>\n",
       "      <th></th>\n",
       "    </tr>\n",
       "  </thead>\n",
       "  <tbody>\n",
       "    <tr>\n",
       "      <th>1.0</th>\n",
       "      <td>0.0</td>\n",
       "    </tr>\n",
       "    <tr>\n",
       "      <th>0.0</th>\n",
       "      <td>0.0</td>\n",
       "    </tr>\n",
       "    <tr>\n",
       "      <th>0.0</th>\n",
       "      <td>0.0</td>\n",
       "    </tr>\n",
       "    <tr>\n",
       "      <th>1.0</th>\n",
       "      <td>1.0</td>\n",
       "    </tr>\n",
       "    <tr>\n",
       "      <th>0.0</th>\n",
       "      <td>0.0</td>\n",
       "    </tr>\n",
       "    <tr>\n",
       "      <th>...</th>\n",
       "      <td>...</td>\n",
       "    </tr>\n",
       "    <tr>\n",
       "      <th>0.0</th>\n",
       "      <td>0.0</td>\n",
       "    </tr>\n",
       "    <tr>\n",
       "      <th>0.0</th>\n",
       "      <td>0.0</td>\n",
       "    </tr>\n",
       "    <tr>\n",
       "      <th>0.0</th>\n",
       "      <td>0.0</td>\n",
       "    </tr>\n",
       "    <tr>\n",
       "      <th>0.0</th>\n",
       "      <td>0.0</td>\n",
       "    </tr>\n",
       "    <tr>\n",
       "      <th>0.0</th>\n",
       "      <td>0.0</td>\n",
       "    </tr>\n",
       "  </tbody>\n",
       "</table>\n",
       "<p>26590 rows × 1 columns</p>\n",
       "</div>"
      ],
      "text/plain": [
       "            0\n",
       "phishing     \n",
       "1.0       0.0\n",
       "0.0       0.0\n",
       "0.0       0.0\n",
       "1.0       1.0\n",
       "0.0       0.0\n",
       "...       ...\n",
       "0.0       0.0\n",
       "0.0       0.0\n",
       "0.0       0.0\n",
       "0.0       0.0\n",
       "0.0       0.0\n",
       "\n",
       "[26590 rows x 1 columns]"
      ]
     },
     "execution_count": 37,
     "metadata": {},
     "output_type": "execute_result"
    }
   ],
   "source": [
    "ypred_binary_float = ypred_binary.astype(float)\n",
    "my_pred = pd.DataFrame(ypred_binary_float, ytest)\n",
    "my_pred"
   ]
  },
  {
   "cell_type": "code",
   "execution_count": 38,
   "id": "b8242e6b",
   "metadata": {},
   "outputs": [],
   "source": [
    "import pickle\n",
    "pickle.dump(rf_regressor, open('my_model.pkl', 'wb'))"
   ]
  },
  {
   "cell_type": "code",
   "execution_count": null,
   "id": "62eb2580",
   "metadata": {},
   "outputs": [],
   "source": []
  }
 ],
 "metadata": {
  "kernelspec": {
   "display_name": "Python 3 (ipykernel)",
   "language": "python",
   "name": "python3"
  },
  "language_info": {
   "codemirror_mode": {
    "name": "ipython",
    "version": 3
   },
   "file_extension": ".py",
   "mimetype": "text/x-python",
   "name": "python",
   "nbconvert_exporter": "python",
   "pygments_lexer": "ipython3",
   "version": "3.11.4"
  }
 },
 "nbformat": 4,
 "nbformat_minor": 5
}
